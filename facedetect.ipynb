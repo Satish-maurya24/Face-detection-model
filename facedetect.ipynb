{
 "cells": [
  {
   "cell_type": "markdown",
   "id": "37ca8ec4",
   "metadata": {},
   "source": [
    "# 1.1 collecting image"
   ]
  },
  {
   "cell_type": "code",
   "execution_count": null,
   "id": "286e7222",
   "metadata": {},
   "outputs": [],
   "source": [
    "import os\n",
    "import time\n",
    "import uuid\n",
    "import cv2"
   ]
  },
  {
   "cell_type": "code",
   "execution_count": null,
   "id": "40d54300",
   "metadata": {},
   "outputs": [],
   "source": [
    "!pip install opencv-python"
   ]
  },
  {
   "cell_type": "markdown",
   "id": "30666bcc",
   "metadata": {},
   "source": [
    "# 1.2 Annotation image with labelme"
   ]
  },
  {
   "cell_type": "code",
   "execution_count": null,
   "id": "d75a8e79",
   "metadata": {},
   "outputs": [],
   "source": [
    "IMAGE_PATH = os.path.join('data', 'images')\n",
    "number_images = 50"
   ]
  },
  {
   "cell_type": "code",
   "execution_count": null,
   "id": "c21c9601",
   "metadata": {},
   "outputs": [],
   "source": [
    "cap = cv2.VideoCapture(0)\n",
    "for i in range (number_images):\n",
    "    print ('collecting image_num{}'.format(i))\n",
    "    ret , frame = cap.read()\n",
    "    imgname = os.path.join(IMAGE_PATH , f'{str(uuid.uuid1())}.jpg')\n",
    "\n",
    "    cv2.imwrite(imgname , frame)\n",
    "    cv2.imshow('frame' , frame)\n",
    "    time.sleep(0.6)\n",
    "    \n",
    "    if cv2.waitKey(1) & 0xFF == ord('q'):\n",
    "        break\n",
    "cap.release()\n",
    "cv2.destroyAllWindows()\n",
    "    \n",
    "                            "
   ]
  },
  {
   "cell_type": "code",
   "execution_count": null,
   "id": "cf76a301",
   "metadata": {},
   "outputs": [],
   "source": [
    "!labelme\n"
   ]
  },
  {
   "cell_type": "code",
   "execution_count": null,
   "id": "d0e942d5",
   "metadata": {},
   "outputs": [],
   "source": [
    "pip install labelme"
   ]
  },
  {
   "cell_type": "markdown",
   "id": "aad66656",
   "metadata": {},
   "source": [
    "# 2. Review dataset ans build image loading function"
   ]
  },
  {
   "cell_type": "markdown",
   "id": "3cb9d516",
   "metadata": {},
   "source": [
    "## 2.1 Import tensof=rflow and Deps"
   ]
  },
  {
   "cell_type": "code",
   "execution_count": null,
   "id": "68e43eee",
   "metadata": {},
   "outputs": [],
   "source": [
    "import tensorflow as tf\n",
    "import json\n",
    "import numpy as np\n",
    "import matplotlib.pyplot as plt"
   ]
  },
  {
   "cell_type": "code",
   "execution_count": null,
   "id": "94444235",
   "metadata": {},
   "outputs": [],
   "source": [
    "! pip install matplotlib"
   ]
  },
  {
   "cell_type": "markdown",
   "id": "db730a52",
   "metadata": {},
   "source": [
    "## 2.2 limit GPU memory Growth"
   ]
  },
  {
   "cell_type": "code",
   "execution_count": null,
   "id": "89085bad",
   "metadata": {},
   "outputs": [],
   "source": [
    "gpus = tf.config.experimental.list_physical_devices('GPU')\n",
    "for gpu in gpus:\n",
    "    tf.config.experimental.set_memory_growth(gpu,True)\n",
    "    \n"
   ]
  },
  {
   "cell_type": "code",
   "execution_count": null,
   "id": "ac646487",
   "metadata": {},
   "outputs": [],
   "source": [
    "tf.config.list_physical_devices('GPU')"
   ]
  },
  {
   "cell_type": "markdown",
   "id": "ffd2aee0",
   "metadata": {},
   "source": [
    "## 2.3 load images into TF Data pipeline\n"
   ]
  },
  {
   "cell_type": "code",
   "execution_count": null,
   "id": "fd10618e",
   "metadata": {},
   "outputs": [],
   "source": [
    "images = tf.data.Dataset.list_files('data\\\\images\\\\*.jpg')"
   ]
  },
  {
   "cell_type": "code",
   "execution_count": null,
   "id": "5e71475e",
   "metadata": {},
   "outputs": [],
   "source": [
    "images.as_numpy_iterator().next()"
   ]
  },
  {
   "cell_type": "code",
   "execution_count": null,
   "id": "9874ba85",
   "metadata": {},
   "outputs": [],
   "source": [
    "def load_img(x):\n",
    "    byte_img = tf.io.read_file(x)\n",
    "    img  = tf.io.decode_jpeg(byte_img)\n",
    "    return img"
   ]
  },
  {
   "cell_type": "code",
   "execution_count": null,
   "id": "d8cb1a5f",
   "metadata": {},
   "outputs": [],
   "source": [
    "images = images.map(load_img)"
   ]
  },
  {
   "cell_type": "code",
   "execution_count": null,
   "id": "e212850b",
   "metadata": {},
   "outputs": [],
   "source": [
    "images.as_numpy_iterator().next()"
   ]
  },
  {
   "cell_type": "code",
   "execution_count": null,
   "id": "6fd42645",
   "metadata": {},
   "outputs": [],
   "source": [
    "type(images)"
   ]
  },
  {
   "cell_type": "markdown",
   "id": "2c3ead7a",
   "metadata": {},
   "source": [
    "## 2.4 view raw images with matplotlib"
   ]
  },
  {
   "cell_type": "code",
   "execution_count": null,
   "id": "e18f8654",
   "metadata": {},
   "outputs": [],
   "source": [
    "image_generator = images.batch(4).as_numpy_iterator()"
   ]
  },
  {
   "cell_type": "code",
   "execution_count": null,
   "id": "920b5fb0",
   "metadata": {},
   "outputs": [],
   "source": [
    "plot_images = image_generator.next()"
   ]
  },
  {
   "cell_type": "code",
   "execution_count": null,
   "id": "c95bc27f",
   "metadata": {
    "scrolled": false
   },
   "outputs": [],
   "source": [
    "fig , ax = plt.subplots(ncols=4 ,figsize = (20,20))\n",
    "for indx , image in enumerate(plot_images):\n",
    "    ax[indx].imshow(image)\n",
    "plt.show()"
   ]
  },
  {
   "cell_type": "markdown",
   "id": "488ceb52",
   "metadata": {},
   "source": [
    " # 3.Partition and unaugmented Data"
   ]
  },
  {
   "cell_type": "markdown",
   "id": "1866517b",
   "metadata": {},
   "source": [
    "## 3.1 mannualy split data into train test and val"
   ]
  },
  {
   "cell_type": "markdown",
   "id": "b7fb428d",
   "metadata": {},
   "source": [
    "## 3.2 move the matching labels"
   ]
  },
  {
   "cell_type": "code",
   "execution_count": null,
   "id": "7a7dc798",
   "metadata": {},
   "outputs": [],
   "source": [
    "   import shutil"
   ]
  },
  {
   "cell_type": "code",
   "execution_count": null,
   "id": "4a1fd8ec",
   "metadata": {},
   "outputs": [],
   "source": [
    "for folder in ['train','test','val']:\n",
    "    for file in os.listdir(os.path.join('data',folder , 'images')):\n",
    "        \n",
    "        filename = file.split('.')[0]+'.json'\n",
    "        existing_filepath = os.path.join('data','labels',filename)\n",
    "     \n",
    "\n",
    "        if os.path.exists(existing_filepath):\n",
    "            new_filepath = os.path.join('data', folder, 'labels')\n",
    "            shutil.move(existing_filepath, new_filepath)\n",
    "\n"
   ]
  },
  {
   "cell_type": "markdown",
   "id": "8c5861c9",
   "metadata": {},
   "source": [
    "# 4. aplly image augmentation on images and labels using albumentations"
   ]
  },
  {
   "cell_type": "markdown",
   "id": "d42c6c6f",
   "metadata": {},
   "source": [
    "## 4.1 setup albumentation transform pipleine"
   ]
  },
  {
   "cell_type": "code",
   "execution_count": null,
   "id": "9264e5c3",
   "metadata": {},
   "outputs": [],
   "source": [
    "import albumentations as alb"
   ]
  },
  {
   "cell_type": "code",
   "execution_count": null,
   "id": "5d6efb9a",
   "metadata": {},
   "outputs": [],
   "source": [
    "!pip install --user albumentations"
   ]
  },
  {
   "cell_type": "code",
   "execution_count": null,
   "id": "a7a731bd",
   "metadata": {},
   "outputs": [],
   "source": [
    "augmentor = alb.Compose([alb.RandomCrop(width=450 , height=450),\n",
    "                         alb.HorizontalFlip(p=0.5),\n",
    "                         alb.RandomBrightnessContrast(p=0.2),\n",
    "                         alb.RGBShift(p=0.2),\n",
    "                         alb.VerticalFlip(p=0.5)],\n",
    "                         bbox_params=alb.BboxParams(format = 'albumentations',\n",
    "                                                  label_fields=['class_labels'])\n",
    "                        )"
   ]
  },
  {
   "cell_type": "markdown",
   "id": "80d60a14",
   "metadata": {},
   "source": [
    "## 4.2 Load a test image and annotation with opencv and json\n"
   ]
  },
  {
   "cell_type": "code",
   "execution_count": null,
   "id": "f6afb3be",
   "metadata": {},
   "outputs": [],
   "source": [
    "img = cv2.imread(os.path.join('data','train','images','0a4c1b9e-5dc2-11ee-a8f3-089798f1ad4e.jpg'))"
   ]
  },
  {
   "cell_type": "code",
   "execution_count": null,
   "id": "7effc63a",
   "metadata": {},
   "outputs": [],
   "source": [
    "img"
   ]
  },
  {
   "cell_type": "code",
   "execution_count": null,
   "id": "54f72334",
   "metadata": {},
   "outputs": [],
   "source": [
    "with open(os.path.join('data','train','labels','0a4c1b9e-5dc2-11ee-a8f3-089798f1ad4e.json'),'r') as f:\n",
    "         label = json.load(f)"
   ]
  },
  {
   "cell_type": "code",
   "execution_count": null,
   "id": "ffd58746",
   "metadata": {
    "scrolled": true
   },
   "outputs": [],
   "source": [
    "label['shapes'][0]['points']"
   ]
  },
  {
   "cell_type": "markdown",
   "id": "7b9d0cb6",
   "metadata": {},
   "source": [
    "## 4.3 Extract Coordinates and Rescale to Match Image Resolution"
   ]
  },
  {
   "cell_type": "code",
   "execution_count": null,
   "id": "2c8127ca",
   "metadata": {},
   "outputs": [],
   "source": [
    "coords = [0,0,0,0]\n",
    "coords[0] = label['shapes'][0]['points'][0][0]\n",
    "coords[1] = label['shapes'][0]['points'][0][1]\n",
    "coords[2] = label['shapes'][0]['points'][1][0]\n",
    "coords[3] = label['shapes'][0]['points'][1][1]"
   ]
  },
  {
   "cell_type": "code",
   "execution_count": null,
   "id": "5f29ae0f",
   "metadata": {},
   "outputs": [],
   "source": [
    "coords = list(np.divide(coords,[640 , 480 , 640 , 480]))"
   ]
  },
  {
   "cell_type": "markdown",
   "id": "38109fc8",
   "metadata": {},
   "source": [
    "## 4.4 Apply Augmentation and View Results"
   ]
  },
  {
   "cell_type": "code",
   "execution_count": null,
   "id": "6cc29603",
   "metadata": {},
   "outputs": [],
   "source": [
    "augmented = augmentor(image=img , bboxes=[coords], class_labels=['face'])"
   ]
  },
  {
   "cell_type": "code",
   "execution_count": null,
   "id": "5bffa712",
   "metadata": {},
   "outputs": [],
   "source": [
    "cv2.rectangle(augmented['image'],\n",
    "              tuple(np.multiply(augmented['bboxes'][0][:2], [450,450]).astype(int)),\n",
    "               tuple(np.multiply(augmented['bboxes'][0][2:], [450,450]).astype(int)),\n",
    "               (255,0,0),2)\n",
    "plt.imshow(augmented['image'])"
   ]
  },
  {
   "cell_type": "markdown",
   "id": "d3449d81",
   "metadata": {},
   "source": [
    "# 5 Build and Run Augmentation pipeline"
   ]
  },
  {
   "cell_type": "markdown",
   "id": "1c693445",
   "metadata": {},
   "source": [
    "## 5.1 Run augmentaion pipeline"
   ]
  },
  {
   "cell_type": "code",
   "execution_count": null,
   "id": "317069c9",
   "metadata": {},
   "outputs": [],
   "source": [
    "for partition in ['train','test','val']: \n",
    "    for image in os.listdir(os.path.join('data', partition, 'images')):\n",
    "        img = cv2.imread(os.path.join('data', partition, 'images', image))\n",
    "\n",
    "        coords = [0,0,0.00001,0.00001]\n",
    "        label_path = os.path.join('data', partition, 'labels', f'{image.split(\".\")[0]}.json')\n",
    "        if os.path.exists(label_path):\n",
    "            with open(label_path, 'r') as f:\n",
    "                label = json.load(f)\n",
    "\n",
    "            coords[0] = label['shapes'][0]['points'][0][0]\n",
    "            coords[1] = label['shapes'][0]['points'][0][1]\n",
    "            coords[2] = label['shapes'][0]['points'][1][0]\n",
    "            coords[3] = label['shapes'][0]['points'][1][1]\n",
    "            coords = list(np.divide(coords, [640,480,640,480]))\n",
    "\n",
    "        try: \n",
    "            for x in range(60):\n",
    "                augmented = augmentor(image=img, bboxes=[coords], class_labels=['face'])\n",
    "                cv2.imwrite(os.path.join('aug_data', partition, 'images', f'{image.split(\".\")[0]}.{x}.jpg'), augmented['image'])\n",
    "\n",
    "                annotation = {}\n",
    "                annotation['image'] = image\n",
    "\n",
    "                if os.path.exists(label_path):\n",
    "                    if len(augmented['bboxes']) == 0: \n",
    "                        annotation['bbox'] = [0,0,0,0]\n",
    "                        annotation['class'] = 0 \n",
    "                    else: \n",
    "                        annotation['bbox'] = augmented['bboxes'][0]\n",
    "                        annotation['class'] = 1\n",
    "                else: \n",
    "                    annotation['bbox'] = [0,0,0,0]\n",
    "                    annotation['class'] = 0 \n",
    "\n",
    "\n",
    "                with open(os.path.join('aug_data', partition, 'labels', f'{image.split(\".\")[0]}.{x}.json'), 'w') as f:\n",
    "                    json.dump(annotation, f)\n",
    "\n",
    "        except Exception as e:\n",
    "            print(e)"
   ]
  },
  {
   "cell_type": "markdown",
   "id": "c32e3908",
   "metadata": {},
   "source": [
    "## 5.2 Load Augmented Images to tensoeflow Dataset"
   ]
  },
  {
   "cell_type": "code",
   "execution_count": null,
   "id": "696e92ab",
   "metadata": {},
   "outputs": [],
   "source": [
    "train_images = tf.data.Dataset.list_files('aug_data\\\\train\\\\images\\\\*.jpg', shuffle=False)\n",
    "train_images = train_images.map(load_img)\n",
    "train_images = train_images.map(lambda x:tf.image.resize(x,(120,120)))\n",
    "train_images = train_images.map(lambda x: x/225)\n"
   ]
  },
  {
   "cell_type": "code",
   "execution_count": null,
   "id": "c8cc99b9",
   "metadata": {},
   "outputs": [],
   "source": [
    "test_images = tf.data.Dataset.list_files('aug_data\\\\test\\\\images\\\\*.jpg', shuffle=False)\n",
    "test_images = test_images.map(load_img)\n",
    "test_images = test_images.map(lambda x:tf.image.resize(x,(120,120)))\n",
    "test_images = test_images.map(lambda x: x/225)"
   ]
  },
  {
   "cell_type": "code",
   "execution_count": null,
   "id": "1a797ffe",
   "metadata": {},
   "outputs": [],
   "source": [
    "val_images = tf.data.Dataset.list_files('aug_data\\\\val\\\\images\\\\*.jpg', shuffle=False)\n",
    "val_images = val_images.map(load_img)\n",
    "val_images = val_images.map(lambda x:tf.image.resize(x,(120,120)))\n",
    "val_images = val_images.map(lambda x: x/225)"
   ]
  },
  {
   "cell_type": "code",
   "execution_count": null,
   "id": "9db37217",
   "metadata": {},
   "outputs": [],
   "source": [
    "train_images.as_numpy_iterator().next()"
   ]
  },
  {
   "cell_type": "markdown",
   "id": "07f9c4d4",
   "metadata": {},
   "source": [
    "# 6 prepare labels "
   ]
  },
  {
   "cell_type": "markdown",
   "id": "0b33bb33",
   "metadata": {},
   "source": [
    "## 6.1 build label loading function"
   ]
  },
  {
   "cell_type": "code",
   "execution_count": null,
   "id": "94400edb",
   "metadata": {},
   "outputs": [],
   "source": [
    "def laod_labels(label_path):\n",
    "    with open(label_path.numpy() , 'r' , encoding=\"utf-8\") as f:\n",
    "        label = json.load(f)\n",
    "    return [label['class']] , label['bbox']"
   ]
  },
  {
   "cell_type": "code",
   "execution_count": null,
   "id": "3057ddf3",
   "metadata": {},
   "outputs": [],
   "source": [
    "train_labels = tf.data.Dataset.list_files('aug_data\\\\train\\\\labels\\\\*.json' ,shuffle = False)\n",
    "train_labels = train_labels.map(lambda x: tf.py_function(laod_labels, [x], [tf.uint8, tf.float16]))"
   ]
  },
  {
   "cell_type": "code",
   "execution_count": null,
   "id": "6affc7be",
   "metadata": {
    "scrolled": true
   },
   "outputs": [],
   "source": [
    "test_labels = tf.data.Dataset.list_files('aug_data\\\\test\\\\labels\\\\*.json' ,shuffle = False)\n",
    "test_labels = test_labels.map(lambda x: tf.py_function(laod_labels, [x], [tf.uint8, tf.float16]))"
   ]
  },
  {
   "cell_type": "code",
   "execution_count": null,
   "id": "2e6ce0f1",
   "metadata": {},
   "outputs": [],
   "source": [
    "val_labels = tf.data.Dataset.list_files('aug_data\\\\val\\\\labels\\\\*.json' ,shuffle = False)\n",
    "val_labels = val_labels.map(lambda x: tf.py_function(laod_labels, [x], [tf.uint8, tf.float16]))"
   ]
  },
  {
   "cell_type": "code",
   "execution_count": null,
   "id": "cb528042",
   "metadata": {},
   "outputs": [],
   "source": [
    "val_labels.as_numpy_iterator().next()"
   ]
  },
  {
   "cell_type": "markdown",
   "id": "39e72226",
   "metadata": {},
   "source": [
    "# 7 Combine Label and image samples"
   ]
  },
  {
   "cell_type": "markdown",
   "id": "706a2d18",
   "metadata": {},
   "source": [
    "## 7.1 check partition length"
   ]
  },
  {
   "cell_type": "code",
   "execution_count": null,
   "id": "c57c4ed7",
   "metadata": {},
   "outputs": [],
   "source": [
    "train = tf.data.Dataset.zip((train_images , train_labels))\n",
    "train = train.shuffle(4000)\n",
    "train = train.batch(8)\n",
    "train = train.prefetch(4)"
   ]
  },
  {
   "cell_type": "code",
   "execution_count": null,
   "id": "bcb4cabe",
   "metadata": {},
   "outputs": [],
   "source": [
    "test = tf.data.Dataset.zip((test_images , test_labels))\n",
    "test = test.shuffle(4000)\n",
    "test = test.batch(8)\n",
    "test = test.prefetch(4)"
   ]
  },
  {
   "cell_type": "code",
   "execution_count": null,
   "id": "422a4466",
   "metadata": {},
   "outputs": [],
   "source": [
    "val = tf.data.Dataset.zip((val_images , val_labels))\n",
    "val = val.shuffle(4000)\n",
    "val = val.batch(8)\n",
    "val = val.prefetch(4)"
   ]
  },
  {
   "cell_type": "code",
   "execution_count": null,
   "id": "68b06628",
   "metadata": {},
   "outputs": [],
   "source": [
    "val.as_numpy_iterator().next()"
   ]
  },
  {
   "cell_type": "code",
   "execution_count": null,
   "id": "4ab90b7c",
   "metadata": {},
   "outputs": [],
   "source": [
    "data_samples = train.as_numpy_iterator()"
   ]
  },
  {
   "cell_type": "markdown",
   "id": "036bc92c-4261-4c5d-8577-44a35a70a892",
   "metadata": {},
   "source": [
    "## 8.2 Download vgg16"
   ]
  },
  {
   "cell_type": "code",
   "execution_count": null,
   "id": "41c9de03",
   "metadata": {},
   "outputs": [],
   "source": [
    "from tensorflow.keras.models import Model\n",
    "from tensorflow.keras.layers import Input ,Conv2D,  Dense, GlobalMaxPooling2D\n",
    "from tensorflow.keras.applications import VGG16"
   ]
  },
  {
   "cell_type": "code",
   "execution_count": null,
   "id": "1ce8b4dc",
   "metadata": {},
   "outputs": [],
   "source": [
    "vgg = VGG16(include_top=False)\n"
   ]
  },
  {
   "cell_type": "code",
   "execution_count": null,
   "id": "ffbbec75",
   "metadata": {},
   "outputs": [],
   "source": [
    "vgg.summary()"
   ]
  },
  {
   "cell_type": "markdown",
   "id": "874cc307-0c59-4b1b-a9e8-680da25d8215",
   "metadata": {},
   "source": [
    "## 8.3 Build instance of Network"
   ]
  },
  {
   "cell_type": "code",
   "execution_count": null,
   "id": "500057ef-c62e-4402-b169-aeacfee34ba1",
   "metadata": {},
   "outputs": [],
   "source": [
    "def build_model():\n",
    "    input_layer = Input(shape=(120,120,3))\n",
    "\n",
    "    vgg = VGG16(include_top =False)(input_layer)\n",
    "    f1 = GlobalMaxPooling2D()(vgg)\n",
    "    class1 = Dense(2048 , activation='relu')(f1)\n",
    "    class2 = Dense(1,activation='sigmoid')(class1)\n",
    "\n",
    "    f2 = GlobalMaxPooling2D()(vgg)\n",
    "    regress1 = Dense(2048 , activation='relu')(f2)\n",
    "    regress2 = Dense(4,activation='sigmoid')(regress1)\n",
    "\n",
    "    facetracker = Model(inputs =input_layer , outputs=[class2,regress2])\n",
    "    return facetracker\n"
   ]
  },
  {
   "cell_type": "code",
   "execution_count": null,
   "id": "f1ce8eb0-0485-42d4-b098-8e368f84b162",
   "metadata": {},
   "outputs": [],
   "source": [
    "train.as_numpy_iterator().next()"
   ]
  },
  {
   "cell_type": "code",
   "execution_count": null,
   "id": "13962428-4927-4fe1-b2d7-de53b3cfa41e",
   "metadata": {},
   "outputs": [],
   "source": [
    "facetracker = build_model()"
   ]
  },
  {
   "cell_type": "code",
   "execution_count": null,
   "id": "b54a38e0-2cb7-4ce5-9db9-3044d03fe24d",
   "metadata": {},
   "outputs": [],
   "source": [
    "facetracker.summary()"
   ]
  },
  {
   "cell_type": "code",
   "execution_count": null,
   "id": "7cb86298-82a2-4ec6-a518-b6eee4acdf11",
   "metadata": {},
   "outputs": [],
   "source": [
    "x,y=train.as_numpy_iterator().next()"
   ]
  },
  {
   "cell_type": "code",
   "execution_count": null,
   "id": "f648b8a3",
   "metadata": {},
   "outputs": [],
   "source": [
    "x"
   ]
  },
  {
   "cell_type": "code",
   "execution_count": null,
   "id": "51d95a90-60b3-4709-b779-1ff80537e9e7",
   "metadata": {},
   "outputs": [],
   "source": [
    "classes,coords = facetracker.predict(x)"
   ]
  },
  {
   "cell_type": "code",
   "execution_count": null,
   "id": "492b71e4-4498-4aa6-a6c4-f8212f2da368",
   "metadata": {},
   "outputs": [],
   "source": [
    "classes,coords"
   ]
  },
  {
   "cell_type": "code",
   "execution_count": null,
   "id": "c3cbd162-5a1a-49fb-abcb-923739581246",
   "metadata": {},
   "outputs": [],
   "source": [
    "y"
   ]
  },
  {
   "cell_type": "markdown",
   "id": "48018ca3-7237-46e5-a009-780c1f6bd4ad",
   "metadata": {},
   "source": [
    "# 9 define Losses and Optimizer"
   ]
  },
  {
   "cell_type": "markdown",
   "id": "b3b2dd9f-f85a-4a65-aa94-5106c6e9c5bc",
   "metadata": {},
   "source": [
    "## 9.1 define lr and Optimizer"
   ]
  },
  {
   "cell_type": "code",
   "execution_count": null,
   "id": "f7d12918-d0c0-4df2-8566-42a8cacb2a87",
   "metadata": {},
   "outputs": [],
   "source": [
    "batches_per_epoch = len(train)\n",
    "lr_decay = (1./0.75 -1)/batches_per_epoch"
   ]
  },
  {
   "cell_type": "code",
   "execution_count": null,
   "id": "eef5a5fb",
   "metadata": {},
   "outputs": [],
   "source": [
    "len(train)"
   ]
  },
  {
   "cell_type": "code",
   "execution_count": null,
   "id": "3437e1a7-ea23-4f4d-b10a-95cd7bc88fde",
   "metadata": {},
   "outputs": [],
   "source": [
    "opt= tf.keras.optimizers.Adam(learning_rate=0.0001,decay = lr_decay)\n"
   ]
  },
  {
   "cell_type": "markdown",
   "id": "eca7e24b-ed12-4547-984f-ad1c68e67446",
   "metadata": {},
   "source": [
    "## 9.2 Create localization Loss and Classification Loss"
   ]
  },
  {
   "cell_type": "code",
   "execution_count": null,
   "id": "7c990c73-b410-4e7b-8daa-0d429b38c4aa",
   "metadata": {},
   "outputs": [],
   "source": [
    "def localization_loss(y_true , yhat):\n",
    "    delta_coord = tf.reduce_sum(tf.square(y_true[:,:2]-yhat[:,:2]))\n",
    "\n",
    "    h_true = y_true[: , 3] -y_true[:,1]\n",
    "    w_true = y_true[:,2] - y_true[:,0]\n",
    "\n",
    "    h_pred= yhat[:,3] - yhat[:,1]\n",
    "    w_pred = yhat[:,2] - yhat[:,0]\n",
    "\n",
    "    delta_size = tf.reduce_sum(tf.square(w_true-w_pred)  + tf.square(h_true-h_pred))\n",
    "\n",
    "    return delta_coord + delta_size"
   ]
  },
  {
   "cell_type": "code",
   "execution_count": null,
   "id": "121ba4ab-6081-447e-a1a2-f301462ae9b0",
   "metadata": {},
   "outputs": [],
   "source": [
    "classloss = tf.keras.losses.BinaryCrossentropy()\n",
    "regressloss = localization_loss"
   ]
  },
  {
   "cell_type": "code",
   "execution_count": null,
   "id": "91cc917e-02b4-4d76-ad51-291d3f15451b",
   "metadata": {},
   "outputs": [],
   "source": [
    "regressloss(y[1] , coords)"
   ]
  },
  {
   "cell_type": "code",
   "execution_count": null,
   "id": "2b349d00-d972-44f6-af7f-8ab975fc6d49",
   "metadata": {},
   "outputs": [],
   "source": [
    "classloss(y[0] , classes)"
   ]
  },
  {
   "cell_type": "markdown",
   "id": "ba2f8947",
   "metadata": {},
   "source": [
    "# 10. Train Neural Network\n"
   ]
  },
  {
   "cell_type": "code",
   "execution_count": null,
   "id": "637eaeb8",
   "metadata": {},
   "outputs": [],
   "source": [
    "class FaceTracker(Model):\n",
    "    def __init__(self,eyetracker, **kwargs):\n",
    "        super().__init__(**kwargs)\n",
    "        self.model = eyetracker\n",
    "        \n",
    "    def compile(self , opt, classloss, localizationloss, **kwargs):\n",
    "        super().compile(**kwargs)\n",
    "        self.closs = classloss\n",
    "        self.lloss = localizationloss\n",
    "        self.opt = opt\n",
    "        \n",
    "    def train_step(self, batch, **kwargs):\n",
    "        \n",
    "        X, y = batch\n",
    "        \n",
    "        with tf.GradientTape() as tape:\n",
    "            classes, coords = self.model(X, training=True)\n",
    "            \n",
    "            batch_classloss = self.closs(y[0], classes)\n",
    "            batch_localizationloss = self.lloss(tf.cast(y[1], tf.float32), coords)\n",
    "            \n",
    "            total_loss = batch_localizationloss+0.5*batch_classloss\n",
    "            \n",
    "            grad = tape.gradient(total_loss, self.model.trainable_variables)\n",
    "            \n",
    "        opt.apply_gradients(zip(grad, self.model.trainable_variables))\n",
    "        \n",
    "        return {\"total_loss\":total_loss, \"class_loss\":batch_classloss, \"regress_loss\":batch_localizationloss}\n",
    "    \n",
    "    def test_step(self, batch, **kwargs):\n",
    "        X, y =batch\n",
    "        \n",
    "        classses, coords = self.model(X, training=False)\n",
    "        \n",
    "        batch_classloss = self.closs(y[0], classes)\n",
    "        batch_localizationloss = self.lloss(tf.cast(y[1], tf.float32), coords)\n",
    "        total_loss = batch_localizationloss=0.5*batch_classloss\n",
    "        \n",
    "        return {\"total_loss\":total_loss, \"class_loss\":batch_classloss, \"regress_loss\":batch_localizationloss}\n",
    "    \n",
    "    def call(self, X, **kwargs):\n",
    "        return self.model(X, **kwargs)"
   ]
  },
  {
   "cell_type": "code",
   "execution_count": null,
   "id": "65e47f3b",
   "metadata": {},
   "outputs": [],
   "source": [
    "model = FaceTracker(facetracker)"
   ]
  },
  {
   "cell_type": "code",
   "execution_count": null,
   "id": "7121a899",
   "metadata": {},
   "outputs": [],
   "source": [
    "model.compile(opt, classloss, regressloss)"
   ]
  },
  {
   "cell_type": "markdown",
   "id": "cd064b85",
   "metadata": {},
   "source": [
    "## 10.2 train "
   ]
  },
  {
   "cell_type": "code",
   "execution_count": null,
   "id": "d0a42c8d",
   "metadata": {},
   "outputs": [],
   "source": [
    "logdir='logs'"
   ]
  },
  {
   "cell_type": "code",
   "execution_count": null,
   "id": "293c8ca6",
   "metadata": {},
   "outputs": [],
   "source": [
    "tensorboard_callback = tf.keras.callbacks.TensorBoard(log_dir=logdir)"
   ]
  },
  {
   "cell_type": "code",
   "execution_count": null,
   "id": "363cc8c0",
   "metadata": {
    "scrolled": false
   },
   "outputs": [],
   "source": [
    "hist = model.fit(train , epochs=40 , validation_data=val, callbacks=[tensorboard_callback])"
   ]
  },
  {
   "cell_type": "code",
   "execution_count": null,
   "id": "98852f6c",
   "metadata": {},
   "outputs": [],
   "source": [
    "hist.history"
   ]
  },
  {
   "cell_type": "code",
   "execution_count": null,
   "id": "dfa4738a",
   "metadata": {},
   "outputs": [],
   "source": [
    "fig, ax = plt.subplots(ncols=3 , figsize=(20,5))\n",
    "ax[0].plot(hist.history['total_loss'], color='teal', label= 'loss')\n",
    "ax[0].plot(hist.history['val_total_loss'], color='orange', label='val loss')\n",
    "ax[0].title.set_text('Loss')\n",
    "ax[0].legend()\n",
    "\n",
    "ax[1].plot(hist.history['class_loss'], color='teal', label= 'class loss')\n",
    "ax[1].plot(hist.history['val_class_loss'], color='orange', label='val class loss')\n",
    "ax[1].title.set_text('Classification loss')\n",
    "ax[1].legend()\n",
    "\n",
    "ax[2].plot(hist.history['regress_loss'], color='teal', label= ' regress loss')\n",
    "ax[2].plot(hist.history['val_regress_loss'], color='orange', label='val regress loss')\n",
    "ax[2].title.set_text('Regress Loss')\n",
    "ax[2].legend()\n",
    "\n",
    "plt.show()\n",
    "\n",
    "\n",
    "\n"
   ]
  },
  {
   "cell_type": "markdown",
   "id": "3b0b3cc3",
   "metadata": {},
   "source": [
    "# 11. Make predictions"
   ]
  },
  {
   "cell_type": "markdown",
   "id": "6d4c2549",
   "metadata": {},
   "source": [
    "## 11.1 make prediction on test set"
   ]
  },
  {
   "cell_type": "code",
   "execution_count": null,
   "id": "c8937ea8",
   "metadata": {},
   "outputs": [],
   "source": [
    "test_data = test.as_numpy_iterator()"
   ]
  },
  {
   "cell_type": "code",
   "execution_count": null,
   "id": "8c25e64b",
   "metadata": {},
   "outputs": [],
   "source": [
    "test_sample=test_data.next()"
   ]
  },
  {
   "cell_type": "code",
   "execution_count": null,
   "id": "5ae5d849",
   "metadata": {},
   "outputs": [],
   "source": [
    "yhat = facetracker.predict(test_sample[0])"
   ]
  },
  {
   "cell_type": "code",
   "execution_count": null,
   "id": "e70a7bbe",
   "metadata": {},
   "outputs": [],
   "source": [
    "fig ,ax= plt.subplots(ncols =4 , figsize=(20,20))\n",
    "for idx in range(4):\n",
    "    sample_image = test_sample[0][idx]\n",
    "    sample_coords = yhat[1][idx]\n",
    "    \n",
    "    if yhat[0][idx] > 0.5:\n",
    "        cv2.rectangle(sample_image,\n",
    "                     tuple(np.multiply(sample_coords[:2],[120,120]).astype(int)),\n",
    "                     tuple(np.multiply(sample_coords[2:],[120,120]).astype(int)),\n",
    "                           (255,0,0),2)\n",
    "        \n",
    "    ax[idx].imshow(sample_image)"
   ]
  },
  {
   "cell_type": "code",
   "execution_count": null,
   "id": "443ce925",
   "metadata": {},
   "outputs": [],
   "source": [
    "from tensorflow.keras.models import load_model"
   ]
  },
  {
   "cell_type": "code",
   "execution_count": null,
   "id": "410ddd5f",
   "metadata": {},
   "outputs": [],
   "source": [
    "import tensorflow as tf\n",
    "import numpy as np\n",
    "import cv2"
   ]
  },
  {
   "cell_type": "code",
   "execution_count": null,
   "id": "c0bebcf7",
   "metadata": {},
   "outputs": [],
   "source": [
    "facetracker.save('facetracker.h5')"
   ]
  },
  {
   "cell_type": "code",
   "execution_count": null,
   "id": "36608507",
   "metadata": {
    "scrolled": true
   },
   "outputs": [],
   "source": [
    "facetracker = load_model('facetracker.h5')"
   ]
  },
  {
   "cell_type": "code",
   "execution_count": null,
   "id": "0a75157a",
   "metadata": {
    "scrolled": true
   },
   "outputs": [],
   "source": [
    "cap =cv2.VideoCapture(0)\n",
    "while cap.isOpened():\n",
    "    _ , frame= cap.read()\n",
    "    frame = frame[50:500, 50:500, ]\n",
    "    \n",
    "    rgb = cv2.cvtColor(frame, cv2.COLOR_BGR2RGB)\n",
    "    resized = tf.image.resize(rgb, (120,120))\n",
    "    \n",
    "    yhat = facetracker.predict(np.expand_dims(resized/255,0))\n",
    "    sample_coords = yhat[1][0]\n",
    "    \n",
    "    if yhat[0] > 0.5:\n",
    "        cv2.rectangle(frame ,\n",
    "                     tuple(np.multiply(sample_coords[:2],[450,450]).astype(int)),\n",
    "                     tuple(np.multiply(sample_coords[2:],[450,450]).astype(int)),\n",
    "                      (255,0,0),1)\n",
    "        cv2.rectangle(frame,\n",
    "                     tuple(np.multiply(sample_coords[:2], [450,450]).astype(int)),\n",
    "                      tuple(np.multiply(sample_coords[2:],[450,450]).astype(int)),\n",
    "                      (255,0,0),1)\n",
    "    \n",
    "        cv2.putText(frame, 'face',tuple(np.add(np.multiply(sample_coords[:2],[450,450]).astype(int),\n",
    "                                              [0,-5])),\n",
    "                   cv2.FONT_HERSHEY_SIMPLEX, 1, (0,0,255), 2, cv2.LINE_AA\n",
    "                   )\n",
    "    cv2.imshow('EyeTrack' , frame)\n",
    "    \n",
    "    if cv2.waitKey(1) & 0xFF == ord('q'):\n",
    "        break\n",
    "\n",
    "cap.release()\n",
    "cv2.destroyAllWindows()\n",
    "\n",
    "        \n",
    "            "
   ]
  }
 ],
 "metadata": {
  "kernelspec": {
   "display_name": "Python 3 (ipykernel)",
   "language": "python",
   "name": "python3"
  },
  "language_info": {
   "codemirror_mode": {
    "name": "ipython",
    "version": 3
   },
   "file_extension": ".py",
   "mimetype": "text/x-python",
   "name": "python",
   "nbconvert_exporter": "python",
   "pygments_lexer": "ipython3",
   "version": "3.11.4"
  }
 },
 "nbformat": 4,
 "nbformat_minor": 5
}
